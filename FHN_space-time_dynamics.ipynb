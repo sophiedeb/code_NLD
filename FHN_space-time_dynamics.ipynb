{
 "cells": [
  {
   "cell_type": "code",
   "execution_count": 1,
   "metadata": {
    "collapsed": true
   },
   "outputs": [],
   "source": [
    "#%%%%%%%%%%%%%%%%%%%%%%%%%%%%%%%%%%%%%%%\n",
    "# Lendert Gelens - April 5, 2015\n",
    "# Code to reproduce results from MBoC 25, pp. 3486 (2014) \n",
    "# Spatio-temporal dynamics of the FHN equation\n",
    "#%%%%%%%%%%%%%%%%%%%%%%%%%%%%%%%%%%%%%%%\n",
    "\n",
    "import numpy as np\n",
    "import matplotlib.pyplot as plt\n",
    "%matplotlib inline\n",
    "\n",
    "\n",
    "#%%%%%%%%%%%%%%%%%%%%%%%%%%%%%%%%%%%%%%%\n",
    "# system parameters  \n",
    "#%%%%%%%%%%%%%%%%%%%%%%%%%%%%%%%%%%%%%%%\n",
    "\n",
    "a = 0.1\n",
    "eps = 0.01\n",
    "b = 2\n",
    "D = 1\n",
    "\n",
    "t_end = 400\n",
    "deltat = 0.1\n",
    "N = 400 #number of discretization points\n",
    "L = 400 # domain size\n",
    "t_save = 1\n",
    "Bist = 1\n",
    "\n",
    "#%%%%%%%%%%%%%%%%%%%%%%%%%%%%%%%%%%%%%%%\n",
    "# function FHN equations\n",
    "#%%%%%%%%%%%%%%%%%%%%%%%%%%%%%%%%%%%%%%%\n",
    "def FHN(a,b,eps,Bist,U,V):\n",
    "    dU = U - Bist*U**3 - V\n",
    "    dV = eps*(U - b*V + a)\n",
    "    return [dU,dV];\n",
    "\n",
    "\n",
    "#%%%%%%%%%%%%%%%%%%%%%%%%%%%%%%%%%%%%%%%\n",
    "# fourier mesh  + approximation discrete de l'opérateur de dérivee spatiale\n",
    "#%%%%%%%%%%%%%%%%%%%%%%%%%%%%%%%%%%%%%%%\n",
    "def mesh_fourier(zmin,zmax,nz):\n",
    "    dz = np.zeros((nz,nz))    \n",
    "    for i in range(nz) : \n",
    "            for j in range(nz) :\n",
    "                    if i == j: \n",
    "                        dz[i,i]=0\n",
    "                        \n",
    "                    else:\n",
    "                        dz[i,j]=np.pi*(-1)**((i-1)+(j-1))/(zmax-zmin)/np.tan(((i-1)-(j-1))*np.pi/(nz))\n",
    "            \n",
    "    return dz"
   ]
  },
  {
   "cell_type": "code",
   "execution_count": 2,
   "metadata": {
    "collapsed": true
   },
   "outputs": [],
   "source": [
    "\n",
    "dz = mesh_fourier(0,L,N)\n",
    "\n",
    "dz2 = np.dot(dz,dz)\n",
    "\n"
   ]
  },
  {
   "cell_type": "code",
   "execution_count": 3,
   "metadata": {},
   "outputs": [
    {
     "data": {
      "text/plain": [
       "(-1, 1)"
      ]
     },
     "execution_count": 3,
     "metadata": {},
     "output_type": "execute_result"
    },
    {
     "data": {
      "image/png": "[encoded data removed]",
      "text/plain": [
       "<matplotlib.figure.Figure at 0x10d4fa5f8>"
      ]
     },
     "metadata": {},
     "output_type": "display_data"
    }
   ],
   "source": [
    "#%%%%%%%%%%%%%%%%%%%%%%%%%%%%%%%%%%%%%%%\n",
    "# plot nullclines and steady states\n",
    "#%%%%%%%%%%%%%%%%%%%%%%%%%%%%%%%%%%%%%%%\n",
    "\n",
    "u_nc = np.linspace(-1.5,1.5,100)\n",
    "v_nc1 = u_nc - Bist*u_nc**3\n",
    "v_nc2 = (u_nc + a)/b\n",
    "\n",
    "\n",
    "fig = plt.figure()\n",
    "ax = fig.add_subplot(3,1,1)\n",
    "ax.plot(v_nc1,u_nc,'r')\n",
    "ax.plot(v_nc2,u_nc,'b')\n",
    "ax.set_xlabel('v')\n",
    "ax.set_ylabel('u')\n",
    "ax.set_ylim([-1.5,1.5])\n",
    "ax.set_xlim([-1,1])\n",
    "\n",
    "\n",
    "\n"
   ]
  },
  {
   "cell_type": "code",
   "execution_count": 7,
   "metadata": {},
   "outputs": [
    {
     "data": {
      "image/png": "[encoded data removed]",
      "text/plain": [
       "<matplotlib.figure.Figure at 0x1137f9588>"
      ]
     },
     "metadata": {},
     "output_type": "display_data"
    }
   ],
   "source": [
    "#%%%%%%%%%%%%%%%%%%%%%%%%%%%%%%%%%%%%%%%\n",
    "# temporal simulation\n",
    "#%%%%%%%%%%%%%%%%%%%%%%%%%%%%%%%%%%%%%%%\n",
    "\n",
    "counter = 0\n",
    "u = -0.3 #initial condition\n",
    "v = -0.3 #initial condition\n",
    "time_arr = 0\n",
    "U_arr = u\n",
    "V_arr = v\n",
    "\n",
    "for i in range(1,round(t_end/deltat)+1):\n",
    "   \n",
    "    counter = counter +1\n",
    "    \n",
    "    # solve FHN equations \n",
    "    [du,dv] = FHN(a,b,eps,Bist,u,v)\n",
    "    u = u + deltat*(du)\n",
    "    v = v + deltat*(dv)\n",
    "   \n",
    "    # save output\n",
    "    if counter >= t_save/deltat:\n",
    "       U_arr=np.append(U_arr,u)\n",
    "       V_arr=np.append(V_arr,v)\n",
    "       time_arr= np.append(time_arr,i*deltat)\n",
    "\n",
    "fig = plt.figure()\n",
    "ax = fig.add_subplot(3,1,2)\n",
    "ax.plot(time_arr,U_arr,'k')\n",
    "ax.set_xlabel('time')\n",
    "ax.set_ylabel('u')\n",
    "ax.set_ylim([-1.5,1.5])\n",
    "\n",
    "plt.show()\n"
   ]
  },
  {
   "cell_type": "code",
   "execution_count": 11,
   "metadata": {},
   "outputs": [],
   "source": [
    "#%%%%%%%%%%%%%%%%%%%%%%%%%%%%%%%%%%%%%%%\n",
    "# spatial simulation\n",
    "#%%%%%%%%%%%%%%%%%%%%%%%%%%%%%%%%%%%%%%%\n",
    "\n",
    "counter = 0\n",
    "counter2 = 0\n",
    "#start with two \"chemicals\" u & v with same initial condition everywhere\n",
    "u = -0.6*np.ones(N)\n",
    "v = -0.3*np.ones(N)\n",
    "\n",
    "#choose the width of the central domain on which you will change this initial condition\n",
    "width_centraldomain = 40\n",
    "#change it\n",
    "u[round(N/2-width_centraldomain/2):round(N/2+width_centraldomain/2)] = np.ones(width_centraldomain)\n",
    "\n",
    "#empty arrays initialize: the solution will be stored in those arrays\n",
    "U_arr = np.zeros((N,round(t_end/t_save)))\n",
    "V_arr = np.zeros((N,round(t_end/t_save)))\n",
    "time_arr = np.zeros((N,round(t_end/t_save)))\n",
    "space_arr = np.zeros((N,round(t_end/t_save)))\n",
    "\n",
    "dz = mesh_fourier(0,L,N)\n",
    "dz2 = np.dot(dz,dz)\n"
   ]
  },
  {
   "cell_type": "code",
   "execution_count": 12,
   "metadata": {},
   "outputs": [],
   "source": [
    "#loop over succesive time points and evolve the system at each step\n",
    "for i in range(round(t_end/deltat)):\n",
    "   \n",
    "    counter = counter +1\n",
    "\n",
    "    # solve FHN equations \n",
    "    [du,dv] = FHN(a,b,eps,Bist,u,v)\n",
    "    u = u + deltat*(du + D*np.dot(dz2,u))\n",
    "    v = v + deltat*(dv + D*np.dot(dz2,v))\n",
    "    t = i*deltat\n",
    "    # save output\n",
    "    if t%t_save ==0 and t!=0:   \n",
    "        counter = 0\n",
    "        counter2 = counter2 +1\n",
    "        U_arr[:,counter2] = u \n",
    "        V_arr[:,counter2] = v \n",
    "        time_arr[:,counter2] = np.ones(N)*t\n",
    "        space_arr[:,counter2] = np.linspace(0,N,1)*(L/N)\n"
   ]
  },
  {
   "cell_type": "code",
   "execution_count": 13,
   "metadata": {},
   "outputs": [
    {
     "data": {
      "image/png": "[encoded data removed]",
      "text/plain": [
       "<matplotlib.figure.Figure at 0x11513ee80>"
      ]
     },
     "metadata": {},
     "output_type": "display_data"
    }
   ],
   "source": [
    "fig=plt.figure()\n",
    "plt.pcolor(U_arr)\n",
    "plt.title('u')\n",
    "plt.xlabel('time')\n",
    "plt.ylabel('position')\n",
    "plt.show()"
   ]
  },
  {
   "cell_type": "code",
   "execution_count": null,
   "metadata": {
    "collapsed": true
   },
   "outputs": [],
   "source": [
    "\n",
    "   "
   ]
  }
 ],
 "metadata": {
  "anaconda-cloud": {},
  "kernelspec": {
   "display_name": "Python 3",
   "language": "python",
   "name": "python3"
  },
  "language_info": {
   "codemirror_mode": {
    "name": "ipython",
    "version": 3
   },
   "file_extension": ".py",
   "mimetype": "text/x-python",
   "name": "python",
   "nbconvert_exporter": "python",
   "pygments_lexer": "ipython3",
   "version": "3.7.5"
  },
  "toc": {
   "base_numbering": 1,
   "nav_menu": {},
   "number_sections": true,
   "sideBar": true,
   "skip_h1_title": false,
   "title_cell": "Table of Contents",
   "title_sidebar": "Contents",
   "toc_cell": false,
   "toc_position": {},
   "toc_section_display": true,
   "toc_window_display": false
  }
 },
 "nbformat": 4,
 "nbformat_minor": 1
}
