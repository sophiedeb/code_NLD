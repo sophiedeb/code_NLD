{
 "cells": [
  {
   "cell_type": "code",
   "execution_count": 114,
   "metadata": {},
   "outputs": [],
   "source": [
    "import matplotlib.pyplot as plt\n",
    "import numpy as np\n",
    "from scipy.integrate import odeint\n",
    "from scipy.optimize import brentq\n",
    "from scipy.signal import argrelextrema\n",
    "import random as rd\n",
    "import math as math"
   ]
  },
  {
   "cell_type": "code",
   "execution_count": 130,
   "metadata": {
    "code_folding": [
     9
    ]
   },
   "outputs": [],
   "source": [
    "t_f = 500\n",
    "t_i = 0\n",
    "dt = .1\n",
    "tvector = np.arange(t_i, t_f, dt)\n",
    "tmax = len(tvector)\n",
    "\n",
    "\n",
    "def stepfct(S):# approximate the function maximum by a smooth function\n",
    "    return .5+.5*np.tanh(100*S);\n",
    "ome=1.\n",
    "#KK= 0,\n",
    "#K12= 430*ome\n",
    "#kdT= 100*ome\n",
    "#kdS=100*ome\n",
    "#kdD=100*ome \n",
    "\n",
    "#parms = {'KK': 0,'K12': 430*ome,'kdT': 100*ome,'kdS': 100*ome,'kdD': 100*ome, 'k0UT': 0, 'k0TD': 0, 'k0US': 0, 'k0SD': 0,'k0DS': .31, 'k0DT': 0, 'k0TU': 0.21, \\\n",
    "#'k0SU': 0.11, 'kAUT': 0.4791, 'kATD': 0.2129,'kASD': 0.5,'kADS':-.3194,'kADT':  .173,'kATU':.0798,'kASU':-.1331,'V': 0.0078,'K1': 0.1,'Ks': 2.7,'Vd': 0.022,'Km':0.2,'Ki': 1, \\\n",
    "#'Vs':2,'Vm':0.2,'Ui': 2.23,'Si': 0.83,'Ti': 0.31,'Di': 0.48,'Mi': 0.037}\n",
    "\n",
    "class monomer_clock:\n",
    "\tdef __init__(self,params={}):\n",
    "\t\tself.k0UT=0\n",
    "\t\tself.k0TD=0\n",
    "\t\tself.k0US=0\n",
    "\t\tself.k0SD= 0     \n",
    "\t\tself.k0DS=.31\n",
    "\t\tself.k0DT=0\n",
    "\t\tself.k0TU=0.21\n",
    "\t\tself.k0SU= 0.11\n",
    "        \n",
    "\t\tself.kAUT=0.4791\n",
    "\t\tself.kATD=0.2129\n",
    "\t\tself.kAUS=  0.0532 \n",
    "\t\tself.kASD= 0.5  #0.5057\n",
    "\t\tself.kADS=-.3194\n",
    "\t\tself.kADT=  .173\n",
    "\t\tself.kATU=.0798\n",
    "\t\tself.kASU=-.1331             \n",
    "\n",
    "\t\tself.ome = 1.0 # ome is there to be able to change the units if needed\n",
    "\t\tself.kaiA = 1.300*self.ome\n",
    "\t\tself.KK = 0 # (*original value 0*)\n",
    "\t\tself.KD = 0 # (*original value 0*)\n",
    "\t\tself.KT = 0\n",
    "\t\tself.K12 = .430*self.ome\n",
    "\t\t#kdU=100*ome\n",
    "\t\tself.kdT = .100*self.ome\n",
    "\t\tself.kdS = .100*self.ome\n",
    "\t\tself.kdD = .100*self.ome\n",
    "        \n",
    "\t\tself.V = 0.0078\n",
    "\t\tself.K1= 0.1\n",
    "\t\tself.Ks = 2.7\n",
    "\t\tself.Vd = 0.022\n",
    "\t\tself.Km =0.2\n",
    "\t\tself.Ki = 1\n",
    "\t\tself.Vs = 2\n",
    "\t\tself.Vm =0.2\n",
    "        #choose default initial conditons\n",
    "\t\tself.Ui = 2.23\n",
    "\t\tself.Si = 0.83\n",
    "\t\tself.Ti = 0.31\n",
    "\t\tself.Di = 0.48\n",
    "\t\tself.Mi = 0.037\n",
    "\t\t#choose an index to estimate period\n",
    "\t\tself.index_choice = 2\n",
    "\t\treturn\n",
    "    \n",
    "\tdef aaa(self,S): # use in the eqs (see later)\n",
    "\t\treturn (self.kaiA-2*S)*stepfct(self.kaiA-2*S)\n",
    "\n",
    "\tdef kk(self,k0,kA,S):\n",
    "\t\treturn k0+((kA*self.aaa(S))/(self.K12+self.aaa(S)))\n",
    "\tdef kTU(self,S):\n",
    "\t\treturn self.kk(self.k0TU,self.kATU,S)\n",
    "\tdef kUT(self,S):\n",
    "\t\treturn self.kk(self.k0UT,self.kAUT,S)\n",
    "\tdef kSU(self,S):\n",
    "\t\treturn self.kk(self.k0SU,self.kASU,S)\n",
    "\tdef kUS(self,S):\n",
    "\t\treturn self.kk(self.k0US,self.kAUS,S)\n",
    "\tdef kDT(self,S):\n",
    "\t\treturn self.kk(self.k0DT,self.kADT,S)\n",
    "\tdef kTD(self,S):\n",
    "\t\treturn self.kk(self.k0TD,self.kATD,S)\n",
    "\tdef kDS(self,S):\n",
    "\t\treturn self.kk(self.k0DS,self.kADS,S)\n",
    "\tdef kSD(self,S):\n",
    "\t\treturn self.kk(self.k0SD,self.kASD,S)\n",
    "\n",
    "\n",
    "\tdef setparameters(self, params):\n",
    "\t\t\"\"\"The function setparameters assignes values to parameters of the model (the parameters encoded in the dictionary 'params') \"\"\" \n",
    "\t\tself.V  = params['V']\n",
    "\t\tself.K1 = params['K1']\n",
    "\t\tself.Ks = params['Ks']\n",
    "\t\tself.Vd = params['Vd']\n",
    "\t\tself.Km = params['Km']\n",
    "\t\tself.Ki = params['Ki']\n",
    "\t\tself.Vs = params['Vs']\n",
    "\t\tself.Vm = params['Vm']\n",
    "        \n",
    "\tdef eqns(self, var, t=0.0):\n",
    "\t\t\"\"\" eqns returns [dU,dS,dT,dD,dM] \"\"\"\n",
    "\t\tU,S,T,D,M = var\n",
    "\t\tdU = self.kTU(S)*T+self.kSU(S)*S-self.kUT(S)*U-self.kUS(S)*U -self.V*((U)/(self.K1+U))-self.Vd*U + self.Ks*M\n",
    "\t\tdS = self.kUS(S)*U+self.kDS(S)*D-self.kSU(S)*S-self.kSD(S)*S-self.V*((S)/(self.K1+S))-self.Vd*S\n",
    "\t\tdT = self.kUT(S)*U+self.kDT(S)*D-self.kTU(S)*T-self.kTD(S)*T-self.V*((T)/(self.K1+T))-self.Vd*T\n",
    "\t\tdD = self.kTD(S)*T+self.kSD(S)*S-self.kDT(S)*D-self.kDS(S)*D-self.V*((D)/(self.K1+D))-self.Vd*D\n",
    "\t\tdM = self.Vs*(((self.Ki)**4)/(((self.Ki)**4)+(0.9*U+0.5*T+0.3*D+1*S)**4))-self.Vm*((M)/(self.Km+M))\n",
    "\t\treturn [dU,dS,dT,dD,dM]\n",
    "\n",
    "    \n",
    "\tdef timelapse(self,t=tvector):\n",
    "         #t=tvector, Ui=Ui, Si=Si, Ti=Ti,Di=Di, Mi=Mi\n",
    "\t\t\"\"\" timelapse generates a time series for the model under consideration with default initial condition and time vector\"\"\"\n",
    "\t\tinitcond =[self.Ui,self.Si,self.Ti,self.Di,self.Mi]\n",
    "\t\t#t = self.tvector\n",
    "\t\ttimelapse = odeint(self.eqns, initcond, t)\n",
    "\t\treturn timelapse\n",
    "    \n",
    "\tdef index_h_var(self):\n",
    "\t\t\"\"\"this function returns the index of the variable with the higher mean value\"\"\"\n",
    "\t\ttimelapse = self.timelapse()\n",
    "\t\tmeans_timelapse = [np.mean(timelapse[:,k]) for k in range(np.shape(timelapse)[1])]\n",
    "\t\treturn np.argmax(means_timelapse)\n",
    "   \n",
    "\n",
    "\tdef pws(self, t=tvector,tmax=tmax):\n",
    "\t\t\"\"\" compute the power spectrum of the time series generated by timelapse function\"\"\"\n",
    "\t\ttimelapse = self.timelapse()\n",
    "\t\t#t=self.tvector\n",
    "\t\t#tmax=self.tmax\n",
    "#\t\ttimelapse = self.timelapse(t)\n",
    "\t\t#remove transient and normalize before fft\n",
    "\t\ttimelapse = timelapse[int(4*tmax/5):tmax,]\n",
    "\t\t#normalize the rest of the time series\n",
    "\t\tfor k in range(timelapse.shape[1]):\n",
    "\t\t\ttimelapse[:,k]= timelapse[:,k]-np.mean(timelapse[:,k])\n",
    "\t\t\t#print('check : should be zero')\n",
    "\t\t\t#print(np.mean(timelapse[:,k]))\n",
    "\t\tffttimelapse = np.fft.fft(timelapse, axis=0)\n",
    "\t\tpws=np.real(ffttimelapse*ffttimelapse.conj())\n",
    "\t\treturn pws\n",
    "    \n",
    "\n",
    "\n",
    "\n",
    "\tdef estimate_period_fft(self,dt=dt):\n",
    "\t\t\"\"\" estimate the period of the time series generated with timelapse function, by using fft\"\"\"\n",
    "\t\tpws = self.pws()\n",
    "\t\t#t = self.tvector\n",
    "\t\tfreqs = np.fft.fftfreq(len(pws), dt)\n",
    "\t\ti_max = np.argmax(pws[:,self.index_choice])\n",
    "\t\treturn 1/freqs[i_max]\n",
    "    \n",
    "\tdef estimate_period(self,t=tvector):\n",
    "\t\t\"\"\" estimate the period of the time series generated with timelapse function, by searching peaks in the time series\"\"\"\n",
    "\t\ttimelapse=self.timelapse()\n",
    "\t\t#t = self.tvector\n",
    "\t\t#tmax=self.tmax\n",
    "\t\tt_notrans=t[int(4*tmax/5):tmax]\n",
    "\t\t#means_timelapse = [np.]\n",
    "\t\tlocmax = argrelextrema(timelapse[int(4*tmax/5):tmax,self.index_choice], np.greater)\n",
    "\t\t#locmin = argrelextrema(timelapse[int(tmax/2):tmax,2], np.less)\n",
    "\t\tnumber_of_max_peaks=np.shape(locmax)[1]\n",
    "\t\tperiods_locmax=t_notrans[locmax[0][1:number_of_max_peaks]]-t_notrans[locmax[0][0:(number_of_max_peaks-1)]]\n",
    "\t\treturn np.mean(periods_locmax)\n",
    "    "
   ]
  },
  {
   "cell_type": "markdown",
   "metadata": {},
   "source": [
    "<b> Run the model for one parameter set and estimate the period with two different techniques </b>"
   ]
  },
  {
   "cell_type": "code",
   "execution_count": 131,
   "metadata": {},
   "outputs": [
    {
     "name": "stdout",
     "output_type": "stream",
     "text": [
      "first estimation of the period :  20.875\n",
      "second estimation of the period :  20.0\n"
     ]
    }
   ],
   "source": [
    "parms = {'V':0.0078,'K1':0.1,'Ks':2.7,'Vd':0.022,'Km':0.2,'Ki':1,'Vs':2,'Vm':0.2,\n",
    "          'k0UT':0,'k0TD':0,'k0US':0,'k0SD':0,'k0DS':0.31,'k0DT':0,'k0TU':0.21,'k0US':0.11,\n",
    "          'kAUT':0.4791,'kATD':0.2129,'kAUS':0.0532,'kASD':0.5,'kADS':-0.3194,'kADT':0.174,'kATU':0.798,'kASU':-0.1331}\n",
    "myclock= monomer_clock();\n",
    "# then everything about a given model in encoded into a \"class\" - see file clock_models.py\n",
    "\n",
    "myclock.setparameters(parms)\n",
    "timelapse = myclock.timelapse()\n",
    "\n",
    "per=myclock.estimate_period()\n",
    "per2=myclock.estimate_period_fft()\n",
    "print('first estimation of the period : ', per)\n",
    "print('second estimation of the period : ', per2)"
   ]
  },
  {
   "cell_type": "code",
   "execution_count": 132,
   "metadata": {},
   "outputs": [
    {
     "data": {
      "text/plain": [
       "<Figure size 432x288 with 0 Axes>"
      ]
     },
     "metadata": {},
     "output_type": "display_data"
    },
    {
     "data": {
      "image/png": "[encoded data removed]",
      "text/plain": [
       "<Figure size 576x360 with 2 Axes>"
      ]
     },
     "metadata": {
      "needs_background": "light"
     },
     "output_type": "display_data"
    }
   ],
   "source": [
    "\n",
    "pws = myclock.pws()\n",
    "dominant_period = myclock.estimate_period_fft()\n",
    "plt.clf()\n",
    "fig = plt.figure('timelapse', figsize=(8, 5), tight_layout=True)\n",
    "ax = fig.add_subplot(211)\n",
    "ax.plot(tvector,timelapse[:,myclock.index_choice])#[int(tmax/2):tmax]\n",
    "plt.ylim(0,2)\n",
    "ax2 = fig.add_subplot(212)\n",
    "ax2.plot(np.fft.fftfreq(len(pws), dt), pws[:,myclock.index_choice])\n",
    "#plt.xlim(-10/dominant_period, 10/dominant_period)\n",
    "#plt.axvline(-1/dominant_period)\n",
    "#plt.axvline(1/dominant_period)\n",
    "plt.show()\n",
    "fig.savefig(\"timelapse_and_pws.pdf\")"
   ]
  },
  {
   "cell_type": "markdown",
   "metadata": {},
   "source": [
    "<b> Bifurcation figure for two parameters </b>\n"
   ]
  },
  {
   "cell_type": "code",
   "execution_count": 133,
   "metadata": {},
   "outputs": [
    {
     "name": "stdout",
     "output_type": "stream",
     "text": [
      "16.666666666666668\n",
      "25.0\n"
     ]
    },
    {
     "name": "stderr",
     "output_type": "stream",
     "text": [
      "/Users/sdebuyl/anaconda3/lib/python3.7/site-packages/numpy/core/fromnumeric.py:3257: RuntimeWarning: Mean of empty slice.\n",
      "  out=out, **kwargs)\n",
      "/Users/sdebuyl/anaconda3/lib/python3.7/site-packages/numpy/core/_methods.py:161: RuntimeWarning: invalid value encountered in double_scalars\n",
      "  ret = ret.dtype.type(ret / rcount)\n"
     ]
    },
    {
     "name": "stdout",
     "output_type": "stream",
     "text": [
      "12.5\n",
      "16.666666666666668\n",
      "20.0\n",
      "11.11111111111111\n",
      "12.5\n",
      "16.666666666666668\n",
      "11.11111111111111\n",
      "12.5\n",
      "14.285714285714285\n",
      "11.11111111111111\n",
      "14.285714285714285\n",
      "12.5\n",
      "11.11111111111111\n",
      "14.285714285714285\n",
      "12.5\n",
      "12.5\n",
      "14.285714285714285\n"
     ]
    }
   ],
   "source": [
    "\n",
    "#t= np.arange(0,100,.1,dtype=float)\n",
    "xs_int = np.array([2.23,0.83,0.31,0.48,0.037],dtype=float) \n",
    "\n",
    "Npoints=10\n",
    "oscillationKs = []\n",
    "oscillationVd = []\n",
    "nooscillationKs = []\n",
    "nooscillationVd = []\n",
    "for Ks in np.linspace(1,160,Npoints):\n",
    "    for Vd in np.linspace(0.0002,0.18,Npoints):   \n",
    "    \n",
    "        parms['Ks'] = Ks\n",
    "        parms['Vd'] = Vd\n",
    "        myclock= monomer_clock();\n",
    "        # then everything about a given model in encoded into a \"class\" - see file clock_models.py\n",
    "\n",
    "        myclock.setparameters(parms)\n",
    "        xs= myclock.timelapse()\n",
    "        #plt.plot(xs[:,0])\n",
    "        if abs(np.min(xs[3000:,0])-np.max(xs[3000:,0]))<10**(-10):#np.any(np.real(abs(xs[800,0]-xs[700,0]))< 0.1) : #rem: the condition for oscillation is a bit rough here...\n",
    "\n",
    "            nooscillationKs.append(Ks)\n",
    "            nooscillationVd.append(Vd)\n",
    "       \n",
    "        else:\n",
    "            period_est = myclock.estimate_period()\n",
    "            if math.isnan(period_est):\n",
    "                nooscillationKs.append(Ks)\n",
    "                nooscillationVd.append(Vd)\n",
    "            else:\n",
    "                #print(period_est)\n",
    "                #period_est_fft=myclock.estimate_period_fft()\n",
    "                #print(period_est_fft)\n",
    "                oscillationKs.append(Ks)\n",
    "                oscillationVd.append(Vd)"
   ]
  },
  {
   "cell_type": "code",
   "execution_count": 134,
   "metadata": {},
   "outputs": [
    {
     "data": {
      "image/png": "[encoded data removed]",
      "text/plain": [
       "<Figure size 432x288 with 1 Axes>"
      ]
     },
     "metadata": {
      "needs_background": "light"
     },
     "output_type": "display_data"
    }
   ],
   "source": [
    "#plt.rcParams['legend.numpoints'] = 1\n",
    "\n",
    "fig, ax = plt.subplots()\n",
    "for color in ['red', 'green']:\n",
    "    if (color=='red'):\n",
    "        x, y = [oscillationKs,oscillationVd]\n",
    "        ax.scatter(x, y, c=color, label='red',edgecolors='none')\n",
    "    if (color=='green'):\n",
    "        x, y = [nooscillationKs,nooscillationVd]\n",
    "        ax.scatter(x, y, c=color, label=color,edgecolors='none')\n",
    "\n",
    "ax.legend(scatterpoints=1,loc='upper right')\n",
    "#ax.grid(True)\n",
    "plt.xlabel('Ks')\n",
    "plt.ylabel('Vd')\n",
    "plt.show()"
   ]
  },
  {
   "cell_type": "markdown",
   "metadata": {},
   "source": [
    "The red region is the region in parameter space leading to oscillations. Rem: a finer resolution would be nicer! (but as it is the code is very fast)"
   ]
  },
  {
   "cell_type": "markdown",
   "metadata": {
    "collapsed": true
   },
   "source": [
    "<b> Bifurcation diagram for one parameter </b>\n",
    "\n",
    "Let us fix $K_s$ and vary $V_d$. We will now represent on the y-axis the position of the fixed point or the min and max values of the oscillations of one of the dynamical variables. When the system goes to a fixed point, the min and max values are simply equal to each other. "
   ]
  },
  {
   "cell_type": "code",
   "execution_count": 81,
   "metadata": {},
   "outputs": [],
   "source": [
    "diagram_under_construction = False  #to estimate the period and plot time traces to check the bifurcation diagram obtained makes sense\n",
    "\n",
    "#t= np.arange(0,100,.1,dtype=float)\n",
    "xs_int = np.array([2.23,0.83,0.31,0.48,0.037],dtype=float) \n",
    "Npoints=100\n",
    "parms['Vd']=0.022 #we varied that parameter to make the previous figure, here we reset the default value\n",
    "list_para= np.linspace(0,80,Npoints)\n",
    "min_list = np.zeros(len(list_para))\n",
    "max_list = np.zeros(len(list_para))\n",
    "for kk in range(len(list_para)):   \n",
    "    parms['Ks'] = list_para[kk]\n",
    "    myclock= monomer_clock();\n",
    "    \n",
    "    # then everything about a given model in encoded into a \"class\" - see file clock_models.py\n",
    "    myclock.setparameters(parms)\n",
    "    xs= myclock.timelapse()\n",
    "    if diagram_under_construction == True:\n",
    "        print('estimation of the period two ways ',myclock.estimate_period(),' and ',myclock.estimate_period_fft())\n",
    "        plt.plot(xs[:,0])\n",
    "    min_list[kk] = np.min(xs[3000:,0])  #we remove the transcient period and look at min and max\n",
    "    max_list [kk]= np.max(xs[3000:,0])"
   ]
  },
  {
   "cell_type": "code",
   "execution_count": 82,
   "metadata": {
    "scrolled": true
   },
   "outputs": [
    {
     "data": {
      "text/plain": [
       "Text(0.5, 0, '$K_s$')"
      ]
     },
     "execution_count": 82,
     "metadata": {},
     "output_type": "execute_result"
    },
    {
     "data": {
      "image/png": "[encoded data removed]",
      "text/plain": [
       "<Figure size 432x288 with 1 Axes>"
      ]
     },
     "metadata": {
      "needs_background": "light"
     },
     "output_type": "display_data"
    }
   ],
   "source": [
    "plt.title('Bifurcation diagram for $K_s$')\n",
    "plt.plot(list_para,min_list)\n",
    "plt.plot(list_para,max_list)\n",
    "plt.ylabel('$U$')\n",
    "plt.xlabel('$K_s$')"
   ]
  },
  {
   "cell_type": "code",
   "execution_count": null,
   "metadata": {},
   "outputs": [],
   "source": []
  }
 ],
 "metadata": {
  "anaconda-cloud": {},
  "kernelspec": {
   "display_name": "Python 3",
   "language": "python",
   "name": "python3"
  },
  "language_info": {
   "codemirror_mode": {
    "name": "ipython",
    "version": 3
   },
   "file_extension": ".py",
   "mimetype": "text/x-python",
   "name": "python",
   "nbconvert_exporter": "python",
   "pygments_lexer": "ipython3",
   "version": "3.7.4"
  },
  "toc": {
   "base_numbering": 1,
   "nav_menu": {},
   "number_sections": true,
   "sideBar": true,
   "skip_h1_title": false,
   "title_cell": "Table of Contents",
   "title_sidebar": "Contents",
   "toc_cell": false,
   "toc_position": {},
   "toc_section_display": true,
   "toc_window_display": false
  }
 },
 "nbformat": 4,
 "nbformat_minor": 2
}
