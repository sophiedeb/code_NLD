{
 "cells": [
  {
   "cell_type": "code",
   "execution_count": null,
   "metadata": {
    "collapsed": true
   },
   "outputs": [],
   "source": [
    "import numpy as np\n",
    "import matplotlib.pyplot as plt\n",
    "%matplotlib inline"
   ]
  },
  {
   "cell_type": "markdown",
   "metadata": {},
   "source": [
    "Define the logistic and sine map."
   ]
  },
  {
   "cell_type": "code",
   "execution_count": null,
   "metadata": {
    "collapsed": true
   },
   "outputs": [],
   "source": [
    "def logisticmap(x, r):\n",
    "    return ''' LOGISTIC MAP ''';\n",
    "\n",
    "def sinemap(x,r):\n",
    "    return ''' SINE MAP''';"
   ]
  },
  {
   "cell_type": "markdown",
   "metadata": {},
   "source": [
    "Function to produce the timeseries of a map"
   ]
  },
  {
   "cell_type": "code",
   "execution_count": null,
   "metadata": {
    "collapsed": true
   },
   "outputs": [],
   "source": [
    "# Generate a timeseries of N points of function f starting from the initial condition x0 using parameter r\n",
    "def timeseries(f, N, x0, r):\n",
    "    x = np.zeros(N);\n",
    "    x[0] = x0;\n",
    "    for i in range(1,N):\n",
    "        x[i] = f(x[i-1], r);\n",
    "    x = np.column_stack((range(N), x));\n",
    "    \n",
    "    ''' \n",
    "    INPUT\n",
    "    f = function\n",
    "    x0 = initial condition\n",
    "    r = parameter of the function\n",
    "    N = number of steps\n",
    "    '''\n",
    "    \n",
    "    ''' \n",
    "    OUTPUT IN FOLLOWING FORMAT\n",
    "    \n",
    "    x = np.array([x0, x1, x2, ..., X(N-1)]) '''\n",
    "    return x"
   ]
  },
  {
   "cell_type": "markdown",
   "metadata": {},
   "source": [
    "Function to plot the timeseries of a map"
   ]
  },
  {
   "cell_type": "code",
   "execution_count": null,
   "metadata": {
    "collapsed": true
   },
   "outputs": [],
   "source": [
    "def plottimeseries(ax, ts):\n",
    "    ax.plot(ts[:,0], ts[:,1]);\n",
    "    ax.set_xlabel('time')\n",
    "    ax.set_ylabel('concentration')\n",
    "    ax.set_ylim([-0.1,1.1])"
   ]
  },
  {
   "cell_type": "markdown",
   "metadata": {},
   "source": [
    "Test timeseries"
   ]
  },
  {
   "cell_type": "code",
   "execution_count": null,
   "metadata": {
    "collapsed": false,
    "scrolled": true
   },
   "outputs": [],
   "source": [
    "f = logisticmap #sinemap\n",
    "x0 = 0.1\n",
    "r = 3.5\n",
    "\n",
    "ts = timeseries(f, 100, x0, r)\n",
    "\n",
    "fig = plt.figure()\n",
    "ax = fig.add_subplot(1,1,1)\n",
    "plottimeseries(ax,ts)\n",
    "plt.show()"
   ]
  },
  {
   "cell_type": "markdown",
   "metadata": {},
   "source": [
    "A function to recognize a cycle and a function to make a cobwebdiagram"
   ]
  },
  {
   "cell_type": "code",
   "execution_count": null,
   "metadata": {
    "collapsed": true
   },
   "outputs": [],
   "source": [
    "def findcycle(ts):\n",
    "    #round at 3 numbers after comma, don't count first element -> initial condition\n",
    "    q = np.ceil(ts[:,-1]*1000)/1000; \n",
    "    idx = np.where(q==q[-1])[0];\n",
    "    if(len(idx)==1): #no cycle\n",
    "        return None;\n",
    "    else:\n",
    "        return q[idx[-2]+1:];\n",
    "    \n",
    "def plotcobweb(ax, f, r, ts):        \n",
    "    ''' PLOT FUNCTION F AND THE DIAGONAL (Y=X)'''\n",
    "    \n",
    "    ''' PLOT THE COBWEB TIMESERIES\n",
    "        \n",
    "        CONVINCE YOURSELF THAT THIS CAN BE DONE BY PLOTTING:\n",
    "        x = [x1, x1, x2, x2, x3, x3, ..., xn-1, xn-1, xn]\n",
    "        y = [y1, y2, y2, y3, y3, ..., yn-1, yn-1, yn, yn]\n",
    "        USE THE NUMPY REPEAT FUNCTION TO OBTAIN SUCH ARRAYS\n",
    "        \n",
    "    '''\n",
    "\n",
    "    # Annotate and tidy the plot.\n",
    "    ax.minorticks_on()\n",
    "    ax.grid(which='minor', alpha=0.5)\n",
    "    ax.grid(which='major', alpha=0.5)\n",
    "    ax.set_aspect('equal')\n",
    "    ax.set_xlabel('$x_n$')\n",
    "    ax.set_ylabel('$x_{n+1}$')"
   ]
  },
  {
   "cell_type": "markdown",
   "metadata": {},
   "source": [
    "See what happens for different values of the parameter r = 1, 2,  3, 3.449, 3.54409, 3.5644, 3.568759."
   ]
  },
  {
   "cell_type": "code",
   "execution_count": null,
   "metadata": {
    "collapsed": false
   },
   "outputs": [],
   "source": [
    "f = logisticmap # sinemap\n",
    "x0 = 0.1\n",
    "r = 3.6\n",
    "\n",
    "N = 100\n",
    "\n",
    "ts = timeseries(f, N, x0, r)\n",
    "\n",
    "fig = plt.figure(figsize=(12,4))\n",
    "axts = fig.add_subplot(1,2,1)\n",
    "plottimeseries(axts,ts)\n",
    "\n",
    "axcw = fig.add_subplot(1,2,2)\n",
    "plotcobweb(axcw, f, r, ts)\n",
    "\n",
    "plt.show()\n",
    "\n",
    "cycle = findcycle(ts)\n",
    "if(cycle==None):\n",
    "    print(\"The cycle is longer than the timeseries or the system is chaotic.\")\n",
    "else:\n",
    "    print(\"This is a %d-cycle : \"%len(cycle), cycle)"
   ]
  },
  {
   "cell_type": "markdown",
   "metadata": {},
   "source": [
    "Function to generate bifurcation diagram and plot it"
   ]
  },
  {
   "cell_type": "code",
   "execution_count": null,
   "metadata": {
    "collapsed": true
   },
   "outputs": [],
   "source": [
    "def bifurcationdiagram(f, parrange, x0):\n",
    "    N = 1000;\n",
    "    \n",
    "    r = np.zeros([0]);\n",
    "    x = np.zeros([0]);\n",
    "    \n",
    "    ''' APPEND VALUES OF PARAMETER RANGE TO R WITH THE CORRESPONDING VALUES OF THE CYCLE,\n",
    "        WHEN NO CYCLE IS FOUND, IT CAN BE LONGER THAN N OR IT COULD BE CHAOS\n",
    "        THE POINTS OF THE TIMESERIES NEED TO BE SHOWN IN THE BIFURCATION DIAGRAM\n",
    "        CONSIDER A TRANSITION TIME OF 100 POINTS\n",
    "    '''\n",
    "    return r, x;\n",
    "\n",
    "def plotbifurcationdiagram(ax, r, x):\n",
    "    ax.scatter(r, x, s=0.4)\n",
    "    ax.set_xlabel('r')\n",
    "    ax.set_ylabel('x')\n",
    "    "
   ]
  },
  {
   "cell_type": "code",
   "execution_count": null,
   "metadata": {
    "collapsed": false
   },
   "outputs": [],
   "source": [
    "# map\n",
    "f = logisticmap\n",
    "\n",
    "# parameter range over which bifurcation diagram is made\n",
    "minr = 3.44\n",
    "maxr = 3.575\n",
    "N = 1000\n",
    "parrange = np.linspace(minr,maxr,N)\n",
    "\n",
    "# initial condition\n",
    "x0 = 0.01\n",
    "\n",
    "# calculate the bifurcations\n",
    "r, x = bifurcationdiagram(f, parrange, x0);"
   ]
  },
  {
   "cell_type": "code",
   "execution_count": null,
   "metadata": {
    "collapsed": false,
    "scrolled": true
   },
   "outputs": [],
   "source": [
    "# plot the bifurcation diagram\n",
    "fig = plt.figure()\n",
    "ax = fig.add_subplot(1,1,1)\n",
    "plotbifurcationdiagram(ax, r, x)\n",
    "plt.show()"
   ]
  },
  {
   "cell_type": "code",
   "execution_count": null,
   "metadata": {
    "collapsed": true
   },
   "outputs": [],
   "source": [
    "def Feigenbaum(r, x):\n",
    "    ur, counts = np.unique(r, return_counts=True);\n",
    "    bifpoints = np.zeros([0]);\n",
    "    n = 1;\n",
    "    ur = ur[counts>n];\n",
    "    counts = counts[counts>n];\n",
    "    n *= 2;    \n",
    "    while(len(ur)>0):\n",
    "        bifpoints = np.append(bifpoints, ur[0]);\n",
    "        ur = ur[counts>n];\n",
    "        counts = counts[counts>n];\n",
    "        n *= 2;\n",
    "    print(\"These are the points of bifurcation:\", bifpoints)\n",
    "    if(len(bifpoints)>2):\n",
    "        print(\"The ratios of two subsequent bifurcation points are :\", (bifpoints[1:-1] - bifpoints[:-2])/(bifpoints[2:] - bifpoints[1:-1]))"
   ]
  },
  {
   "cell_type": "code",
   "execution_count": null,
   "metadata": {
    "collapsed": false
   },
   "outputs": [],
   "source": [
    "Feigenbaum(r, x)"
   ]
  },
  {
   "cell_type": "code",
   "execution_count": null,
   "metadata": {
    "collapsed": true
   },
   "outputs": [],
   "source": []
  }
 ],
 "metadata": {
  "kernelspec": {
   "display_name": "Python 3",
   "language": "python",
   "name": "python3"
  },
  "language_info": {
   "codemirror_mode": {
    "name": "ipython",
    "version": 3
   },
   "file_extension": ".py",
   "mimetype": "text/x-python",
   "name": "python",
   "nbconvert_exporter": "python",
   "pygments_lexer": "ipython3",
   "version": "3.5.3"
  }
 },
 "nbformat": 4,
 "nbformat_minor": 0
}
