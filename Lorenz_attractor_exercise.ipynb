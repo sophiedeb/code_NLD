{
 "cells": [
  {
   "cell_type": "code",
   "execution_count": 1,
   "metadata": {},
   "outputs": [],
   "source": [
    "import numpy as np\n",
    "import matplotlib.pyplot as plt\n",
    "from mpl_toolkits.mplot3d import Axes3D\n",
    "\n"
   ]
  },
  {
   "cell_type": "markdown",
   "metadata": {},
   "source": [
    "Define the Lorenz equations first"
   ]
  },
  {
   "cell_type": "code",
   "execution_count": 2,
   "metadata": {},
   "outputs": [],
   "source": [
    "def lorenz(conc, par):\n",
    "    x, y, z = conc;\n",
    "    s, r, b = par;\n",
    "    \n",
    "    ''' IMPLEMENT LORENZ EQUATIONS '''\n",
    "    \n",
    "    return np.array([x_dot, y_dot, z_dot])"
   ]
  },
  {
   "cell_type": "markdown",
   "metadata": {},
   "source": [
    "Functions to integrate a system of ordinary differential equations"
   ]
  },
  {
   "cell_type": "code",
   "execution_count": null,
   "metadata": {
    "collapsed": true
   },
   "outputs": [],
   "source": [
    "def Euler(dt, f, x, par): \n",
    "    dx = f(x, par)*dt;  # equivalent to reactions.dot(propensitiesGLV(x, omega, r, mu, e, sites))    \n",
    "    return dx\n",
    "\n",
    "# Runge Kutta 4th order\n",
    "def rk4(dt, f, x, par): \n",
    "    rk1 = f(x, par);  # equivalent to reactions.dot(propensitiesGLV(x, omega, r, mu, e, sites))\n",
    "    xt = x + dt / 2 * rk1;\n",
    "    rk2 = f(xt, par);\n",
    "    xt = x + dt / 2 * rk2;\n",
    "    rk3 = f(xt, par);\n",
    "    xt = x + dt * rk3;\n",
    "    rk4 = f(xt, par);\n",
    "\n",
    "    dx = dt / 6 * (rk1 + 2 * rk2 + 2 * rk3 + rk4);\n",
    "    return dx\n",
    "\n",
    "def timeseries(f, c0, par, tf, dt, ti=0):\n",
    "    ''' \n",
    "    INPUT\n",
    "    f = function\n",
    "    c0 = [x0, y0, z0], initial condition\n",
    "    par = parameters of the function\n",
    "    tf = endpoint time\n",
    "    dt = timestep\n",
    "    '''\n",
    "    \n",
    "    ''' \n",
    "    USE RUNGE KUTTA 4TH ORDER TO MAKE A TIMESERIES,\n",
    "    OUTPUT IN FOLLOWING FORMAT\n",
    "    \n",
    "    c = np.array([[t0, x0, y0, z0], \n",
    "                    [t1, x1, y1, z1],\n",
    "                     ...,\n",
    "                     [tf, xf, yf, zf]]) '''\n",
    "    return c"
   ]
  },
  {
   "cell_type": "markdown",
   "metadata": {},
   "source": [
    "Function to plot the timeseries"
   ]
  },
  {
   "cell_type": "code",
   "execution_count": null,
   "metadata": {
    "collapsed": true
   },
   "outputs": [],
   "source": [
    "def plottimeseries(ax, ts, labels=['x', 'y', 'z']):\n",
    "    for i in range(1, len(ts[0])):\n",
    "        ax.plot(ts[:,0], ts[:,i], label=labels[i-1]);\n",
    "    ax.legend()\n",
    "    ax.set_xlabel('time')\n",
    "    ax.set_ylabel('concentration')"
   ]
  },
  {
   "cell_type": "markdown",
   "metadata": {},
   "source": [
    "Function to plot the timeseries in phasespace"
   ]
  },
  {
   "cell_type": "code",
   "execution_count": null,
   "metadata": {},
   "outputs": [],
   "source": [
    "def plotphasespace(ax, ts, labels =['x','y','z'], cmap=''):\n",
    "    if(cmap==''):\n",
    "        ax.plot(ts[:,1], ts[:,2], ts[:,3], lw=0.5)\n",
    "    else:\n",
    "        dt = int(len(ts)/100)\n",
    "        for i in range(0, len(ts)-dt, dt):\n",
    "            ax.plot(ts[i:i+1+dt,1], ts[i:i+1+dt,2], ts[i:i+1+dt,3], c=cmap(ts[i,0]/ts[-1,0]))\n",
    "    \n",
    "    #ax.plot([ts[0,1]], [ts[0,2]],[ts[0,3]],'o') # plot starting point\n",
    "    #ax.plot([ts[-1,1]], [ts[-1,2]],[ts[-1,3]],'o') # plot end point\n",
    "    ax.set_xlabel(\"x\")\n",
    "    ax.set_ylabel(\"y\")\n",
    "    ax.set_zlabel(\"z\")"
   ]
  },
  {
   "cell_type": "markdown",
   "metadata": {},
   "source": [
    "Perform a timeseries, visualize as a function of time and visualize in phasespace.\n",
    "\n",
    "Play with the parameters, see what happens for different r (r = 0.5, 10, 21, 24.1, 28, 100, 350)."
   ]
  },
  {
   "cell_type": "code",
   "execution_count": null,
   "metadata": {
    "scrolled": true
   },
   "outputs": [],
   "source": [
    "# system of ordinary differential equations\n",
    "f = lorenz\n",
    "\n",
    "# initial condition\n",
    "x0 = np.array([0, 1., 1.05])\n",
    "\n",
    "# parameters\n",
    "sigma = 10\n",
    "r = 0.5\n",
    "b = 8.0/3\n",
    "par = [sigma, r, b];\n",
    "\n",
    "# time\n",
    "tf = 30   # final time\n",
    "dt = 0.01 # timestep\n",
    "\n",
    "# perform timeseries\n",
    "ts = timeseries(f, x0, par, tf, dt)\n",
    "\n",
    "# make figure\n",
    "fig = plt.figure(figsize=(12,4))\n",
    "\n",
    "# plot timeseries\n",
    "axts = fig.add_subplot(1,2,1)\n",
    "plottimeseries(axts, ts)\n",
    "\n",
    "# plot phasespace\n",
    "axps = fig.add_subplot(1,2,2,projection='3d')\n",
    "plotphasespace(axps, ts)\n",
    "\n",
    "plt.show()"
   ]
  },
  {
   "cell_type": "markdown",
   "metadata": {},
   "source": [
    "Plot multiple timeseries starting from different initial conditions, see how they all end on the same attractor"
   ]
  },
  {
   "cell_type": "code",
   "execution_count": null,
   "metadata": {},
   "outputs": [],
   "source": [
    "# number of timeseries\n",
    "Nts = 20;\n",
    "\n",
    "# system of ordinary differential equations\n",
    "f = lorenz\n",
    "\n",
    "# minimal and maximal values of the initial condition\n",
    "xmin, xmax = (20, 35)\n",
    "ymin, ymax = (1, 5)\n",
    "zmin, zmax = (15, 20)\n",
    "\n",
    "# parameters\n",
    "sigma = 10\n",
    "r = 28\n",
    "b = 8.0/3\n",
    "par = [sigma, r, b];\n",
    "\n",
    "# time\n",
    "tf = 30\n",
    "dt = 0.01\n",
    "\n",
    "''' \n",
    "GENERATE Nts TIMESERIES STARTING FROM DIFFERENT INITIAL CONDITIONS IN BETWEEN THE MIN-MAX RANGES\n",
    "PLOT ALL TIMESERIES IN ONE FIGURE\n",
    "'''\n"
   ]
  },
  {
   "cell_type": "markdown",
   "metadata": {},
   "source": [
    "In chaotic systems, neighboring trajectories separate exponentially fast. We look at two trajectories starting at initial conditions only 1e-15 apart (Euclidean distance)."
   ]
  },
  {
   "cell_type": "code",
   "execution_count": null,
   "metadata": {},
   "outputs": [],
   "source": [
    "''' \n",
    "GENERATE 2 TIMESERIES WITH INITIAL CONDITIONS WITH A EUCLIDEAN DISTANCE OF ABOUT 1E-15\n",
    "tsa \n",
    "tsb\n",
    "'''"
   ]
  },
  {
   "cell_type": "code",
   "execution_count": null,
   "metadata": {},
   "outputs": [],
   "source": [
    "# plot the timeseries in phasespace + 10 equally spaced timepoints to compare the evolution of both series\n",
    "fig = plt.figure(figsize=(12,4))\n",
    "\n",
    "cmap=plt.cm.get_cmap('inferno')\n",
    "\n",
    "axa = fig.add_subplot(1,2,1, projection='3d')\n",
    "plotphasespace(axa, tsa, cmap=cmap)\n",
    "for i in range(0, int(tf/dt), int(tf/(10*dt))):\n",
    "    axa.plot([tsa[i,1]], [tsa[i,2]], [tsa[i,3]], 'o', c=cmap(tsa[i,0]/tsa[-1,0]))\n",
    "\n",
    "axb = fig.add_subplot(1,2,2, projection='3d')\n",
    "plotphasespace(axb, tsb, cmap=cmap)\n",
    "for i in range(0, int(tf/dt), int(tf/(10*dt))):\n",
    "    axb.plot([tsb[i,1]], [tsb[i,2]], [tsb[i,3]], 'o', c=cmap(tsb[i,0]/tsb[-1,0]))\n",
    "plt.show()"
   ]
  },
  {
   "cell_type": "markdown",
   "metadata": {},
   "source": [
    "The distance as a function of time grows exponentially and saturates at a distance in the order of the size of the attractor."
   ]
  },
  {
   "cell_type": "code",
   "execution_count": null,
   "metadata": {},
   "outputs": [],
   "source": [
    "def distanceTimeseries(tfa, tfb):\n",
    "    '''\n",
    "    INPUT\n",
    "     tf = np.array([[t0, x0, y0, z0], \n",
    "                    [t1, x1, y1, z1],\n",
    "                     ...,\n",
    "                     [tf, xf, yf, zf]])\n",
    "    '''\n",
    "    \n",
    "    ''' \n",
    "    CALCULATE THE EUCLIDEAN DISTANCE BETWEEN 2 TIMESERIES \n",
    "    FORMAT : d = np.array([d0, d1, d2, ..., df])\n",
    "    with di = Euclidean distance between (xai, yai, zai) and (xbi, ybi, zbi)\n",
    "    '''\n",
    "    return d\n"
   ]
  },
  {
   "cell_type": "code",
   "execution_count": null,
   "metadata": {},
   "outputs": [],
   "source": [
    "# calculate distance between timeseries and logarithm of this distance\n",
    "dis = distanceTimeseries(tsa,tsb)\n",
    "logdis = np.log(dis)\n",
    "\n",
    "# plot the distance as a function of time\n",
    "plt.figure()\n",
    "plt.plot(t,logdis)"
   ]
  },
  {
   "cell_type": "markdown",
   "metadata": {},
   "source": [
    "The slope of this curve, $\\lambda$, is also called the Liapunov exponent. We will now calculate this exponent for the Lorenz attractor."
   ]
  },
  {
   "cell_type": "code",
   "execution_count": null,
   "metadata": {},
   "outputs": [],
   "source": [
    "''' \n",
    "FIT A STRAIGHT LINE THROUGH THE DATAPOINTS UNTIL THE 'KNEE'\n",
    "YOU CAN USE POLYFIT FROM NUMPY\n",
    "'''\n",
    "\n",
    "# Plot the curve with the fitted line\n",
    "plt.figure()\n",
    "plt.plot(t, '''FITTED LINE''', label='slope = %.2E'%'''RESULTING SLOPE''')\n",
    "plt.plot(t,logdis)\n",
    "plt.legend()\n",
    "plt.xlabel('t')\n",
    "plt.ylabel(r'$\\ln\\vert\\vert{\\delta}\\vert\\vert$')\n",
    "plt.show()\n"
   ]
  },
  {
   "cell_type": "code",
   "execution_count": null,
   "metadata": {
    "collapsed": true
   },
   "outputs": [],
   "source": []
  }
 ],
 "metadata": {
  "kernelspec": {
   "display_name": "Python 3",
   "language": "python",
   "name": "python3"
  },
  "language_info": {
   "codemirror_mode": {
    "name": "ipython",
    "version": 3
   },
   "file_extension": ".py",
   "mimetype": "text/x-python",
   "name": "python",
   "nbconvert_exporter": "python",
   "pygments_lexer": "ipython3",
   "version": "3.7.5"
  },
  "toc": {
   "base_numbering": 1,
   "nav_menu": {},
   "number_sections": true,
   "sideBar": true,
   "skip_h1_title": false,
   "title_cell": "Table of Contents",
   "title_sidebar": "Contents",
   "toc_cell": false,
   "toc_position": {},
   "toc_section_display": true,
   "toc_window_display": false
  }
 },
 "nbformat": 4,
 "nbformat_minor": 1
}
