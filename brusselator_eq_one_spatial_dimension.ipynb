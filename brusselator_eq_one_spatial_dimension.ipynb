{
 "cells": [
  {
   "cell_type": "code",
   "execution_count": 1,
   "metadata": {},
   "outputs": [],
   "source": [
    "import numpy as np\n",
    "import matplotlib.pyplot as plt"
   ]
  },
  {
   "cell_type": "code",
   "execution_count": 2,
   "metadata": {},
   "outputs": [],
   "source": [
    "#%%%%%%%%%%%%%%%%%%%%%%%%%%%%%%%%%%%%%%%\n",
    "# fourier mesh\n",
    "#%%%%%%%%%%%%%%%%%%%%%%%%%%%%%%%%%%%%%%%\n",
    "\n",
    "\n",
    "def mesh_fourier(zmin,zmax,nz):\n",
    "    dz = np.zeros((nz,nz))    \n",
    "    for i in range(nz) : \n",
    "            for j in range(nz) :\n",
    "                    if i == j: \n",
    "                        dz[i,i]=0\n",
    "                        \n",
    "                    else:\n",
    "                        dz[i,j]=np.pi*(-1)**((i-1)+(j-1))/(zmax-zmin)/np.tan(((i-1)-(j-1))*np.pi/(nz))\n",
    "            \n",
    "    return dz\n"
   ]
  },
  {
   "cell_type": "code",
   "execution_count": 3,
   "metadata": {},
   "outputs": [],
   "source": [
    "#%%%%%%%%%%%%%%%%%%%%%%%%%%%%%%%%%%%%%%%\n",
    "# function BXL equations\n",
    "#%%%%%%%%%%%%%%%%%%%%%%%%%%%%%%%%%%%%%%%\n",
    "\n",
    "def Bxl(a,b,U,V):\n",
    "    dU = a-(b+1)*U+U**2*V\n",
    "    dV = b*U-U**2.*V\n",
    "    return [dU, dV]\n"
   ]
  },
  {
   "cell_type": "code",
   "execution_count": 4,
   "metadata": {},
   "outputs": [],
   "source": [
    "# Physical size of the system\n",
    "L=70;\n",
    "# Parameters\n",
    "D1=2.8\n",
    "D2=22.4\n",
    "oscillatory=False"
   ]
  },
  {
   "cell_type": "code",
   "execution_count": 5,
   "metadata": {},
   "outputs": [],
   "source": [
    "if oscillatory==False:\n",
    "     a=1.5\n",
    "    # Critical parameter for stationary instability: bc=2.34\n",
    "    # Interesting values to try:\n",
    "    #   - just below onset b=2.3\n",
    "    #   - just above onset b=2.4\n",
    "    #   - far above onset b=3.0\n",
    "     b=2.4\n",
    "else:\n",
    "    a0 = 2* np.sqrt(D2*D1)/(D2-D1)\n",
    "    a = 0.75; \n",
    "    if a>a0 :\n",
    "        print('Oscillatory instability requires a < %f',a0)\n",
    "    b=1.6\n",
    "    bo=1+a**2 \n",
    "    bc=(1+a*np.sqrt(D1/D2))**2\n",
    "    if b<bo or b>bc:\n",
    "          print('Oscillatory instability requires %f <  b < %f',bo,bc)\n",
    "   "
   ]
  },
  {
   "cell_type": "code",
   "execution_count": 6,
   "metadata": {},
   "outputs": [],
   "source": [
    "c=b/a"
   ]
  },
  {
   "cell_type": "code",
   "execution_count": 7,
   "metadata": {},
   "outputs": [],
   "source": [
    "# Spatial resolution:\n",
    "#   - increase to improve performance,\n",
    "#   - decrease to increase speed \n",
    "N=64\n",
    "\n",
    "\n",
    "# Timestep (has to be no more than 0.01 close to onset)\n",
    "deltat=0.01\n",
    "t_end = 1000\n",
    "t_save = 1\n",
    "\n",
    "# Initial condition\n",
    "if 0==0:\n",
    "    t=0\n",
    "    U=a*np.ones(N)+0.001*np.random.standard_normal(N)\n",
    "    V=c*np.ones(N)+0.001*np.random.standard_normal(N)\n",
    "    Ut=[]\n",
    "    # Ut=[t log(norm(U-a*ones(N))/N)];\n",
    "\n",
    "\n"
   ]
  },
  {
   "cell_type": "code",
   "execution_count": 8,
   "metadata": {},
   "outputs": [],
   "source": [
    "\n",
    "#%%%%%%%%%%%%%%%%%%%%%%%%%%%%%%%%%%%%%%%\n",
    "# spatial simulation\n",
    "#%%%%%%%%%%%%%%%%%%%%%%%%%%%%%%%%%%%%%%%\n",
    "\n",
    "dz = mesh_fourier(0,L,N)\n",
    "\n",
    "dz2 = np.dot(dz,dz)\n",
    "\n",
    "\n",
    "\n",
    "# initial conditions\n",
    "u = a*np.ones(N)+0.001*np.random.standard_normal(N)\n",
    "v = c*np.ones(N)+0.001*np.random.standard_normal(N)\n",
    "\n",
    "\n",
    "# arrays to save the solution\n",
    "U_arr = np.zeros((N,round(t_end/t_save)))\n",
    "V_arr = np.zeros((N,round(t_end/t_save)))\n",
    "time_arr = np.zeros((N,round(t_end/t_save)))\n",
    "space_arr = np.zeros((N,round(t_end/t_save)))\n",
    "\n",
    "# solver\n",
    "counter = 0  #useless (\"i\" does the job)\n",
    "counter2 = 0\n",
    "for i in range(1,round(t_end/deltat)+1):\n",
    "   \n",
    "    counter = counter +1\n",
    "    \n",
    "    # solve BXL equations \n",
    "    [du, dv] = Bxl(a,b,u,v)\n",
    "    u = u + deltat*(du + D1*np.dot(dz2,u))\n",
    "\n",
    "    v = v + deltat*(dv + D2*np.dot(dz2,v))\n",
    "    t = i*deltat\n",
    "    \n",
    "    \n",
    "\n",
    "\n",
    "    # save output\n",
    "    if  t%t_save ==0 :\n",
    "        counter = 0\n",
    "        time_arr[:,counter2] = np.ones(N)*t\n",
    "        space_arr[:,counter2] = np.linspace(1,N,N)*(L/N)\n",
    "        U_arr[:,counter2] = u \n",
    "        V_arr[:,counter2] = v \n",
    "        counter2 = counter2 +1\n"
   ]
  },
  {
   "cell_type": "code",
   "execution_count": 9,
   "metadata": {},
   "outputs": [
    {
     "data": {
      "image/png": "[encoded data removed]",
      "text/plain": [
       "<Figure size 432x288 with 1 Axes>"
      ]
     },
     "metadata": {
      "needs_background": "light"
     },
     "output_type": "display_data"
    }
   ],
   "source": [
    "fig=plt.figure()\n",
    "plt.pcolor(U_arr)\n",
    "plt.title('u')\n",
    "plt.xlabel('time')\n",
    "plt.ylabel('position')\n",
    "plt.show()"
   ]
  },
  {
   "cell_type": "code",
   "execution_count": 10,
   "metadata": {},
   "outputs": [
    {
     "data": {
      "image/png": "[encoded data removed]",
      "text/plain": [
       "<Figure size 432x288 with 1 Axes>"
      ]
     },
     "metadata": {
      "needs_background": "light"
     },
     "output_type": "display_data"
    }
   ],
   "source": [
    "fig=plt.figure()\n",
    "plt.plot(np.linspace(1,N,N)*(L/N),U_arr[:,0])\n",
    "plt.plot(np.linspace(1,N,N)*(L/N),U_arr[:,999])\n",
    "plt.title('u')\n",
    "plt.xlabel('location')\n",
    "plt.ylabel('U')\n",
    "plt.show()\n"
   ]
  }
 ],
 "metadata": {
  "anaconda-cloud": {},
  "kernelspec": {
   "display_name": "Python 3",
   "language": "python",
   "name": "python3"
  },
  "language_info": {
   "codemirror_mode": {
    "name": "ipython",
    "version": 3
   },
   "file_extension": ".py",
   "mimetype": "text/x-python",
   "name": "python",
   "nbconvert_exporter": "python",
   "pygments_lexer": "ipython3",
   "version": "3.7.5"
  },
  "toc": {
   "base_numbering": 1,
   "nav_menu": {},
   "number_sections": true,
   "sideBar": true,
   "skip_h1_title": false,
   "title_cell": "Table of Contents",
   "title_sidebar": "Contents",
   "toc_cell": false,
   "toc_position": {},
   "toc_section_display": true,
   "toc_window_display": false
  }
 },
 "nbformat": 4,
 "nbformat_minor": 1
}
